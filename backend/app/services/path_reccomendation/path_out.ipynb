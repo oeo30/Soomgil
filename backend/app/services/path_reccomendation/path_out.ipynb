{
 "cells": [
  {
   "cell_type": "code",
   "execution_count": 1,
   "id": "7b1104d5",
   "metadata": {
    "execution": {
     "iopub.execute_input": "2025-08-29T16:04:55.644951Z",
     "iopub.status.busy": "2025-08-29T16:04:55.644822Z",
     "iopub.status.idle": "2025-08-29T16:04:55.648294Z",
     "shell.execute_reply": "2025-08-29T16:04:55.648038Z"
    },
    "papermill": {
     "duration": 0.005664,
     "end_time": "2025-08-29T16:04:55.648956",
     "exception": false,
     "start_time": "2025-08-29T16:04:55.643292",
     "status": "completed"
    },
    "tags": [
     "parameters"
    ]
   },
   "outputs": [],
   "source": [
    "# Papermill 파라미터 셀\n",
    "start_lat = 37.575785 # 기본값, papermill로 덮어씀\n",
    "start_lon = 127.048772 # 기본값, papermill로 덮어씀\n",
    "walk_km = 5  # 총 왕복 산책 거리\n",
    "season = '가을'"
   ]
  },
  {
   "cell_type": "code",
   "execution_count": 2,
   "id": "12e6dcda",
   "metadata": {
    "execution": {
     "iopub.execute_input": "2025-08-29T16:04:55.651245Z",
     "iopub.status.busy": "2025-08-29T16:04:55.651151Z",
     "iopub.status.idle": "2025-08-29T16:04:55.652675Z",
     "shell.execute_reply": "2025-08-29T16:04:55.652450Z"
    },
    "papermill": {
     "duration": 0.003272,
     "end_time": "2025-08-29T16:04:55.653305",
     "exception": false,
     "start_time": "2025-08-29T16:04:55.650033",
     "status": "completed"
    },
    "tags": [
     "injected-parameters"
    ]
   },
   "outputs": [],
   "source": [
    "# Parameters\n",
    "start_lat = 37.571058144694945\n",
    "start_lon = 127.0695885049667\n",
    "walk_km = 2.92\n",
    "season = \"\\uc5ec\\ub984\"\n"
   ]
  },
  {
   "cell_type": "code",
   "execution_count": 3,
   "id": "b4a98d7c",
   "metadata": {
    "execution": {
     "iopub.execute_input": "2025-08-29T16:04:55.655374Z",
     "iopub.status.busy": "2025-08-29T16:04:55.655285Z",
     "iopub.status.idle": "2025-08-29T16:04:56.077664Z",
     "shell.execute_reply": "2025-08-29T16:04:56.077319Z"
    },
    "papermill": {
     "duration": 0.424397,
     "end_time": "2025-08-29T16:04:56.078556",
     "exception": false,
     "start_time": "2025-08-29T16:04:55.654159",
     "status": "completed"
    },
    "tags": [
     "parameters"
    ]
   },
   "outputs": [],
   "source": [
    "import json\n",
    "import pandas as pd\n",
    "import networkx as nx\n",
    "import folium\n",
    "from scipy.spatial import KDTree\n",
    "from collections import Counter\n",
    "import os"
   ]
  },
  {
   "cell_type": "code",
   "execution_count": 4,
   "id": "23167c6a",
   "metadata": {
    "execution": {
     "iopub.execute_input": "2025-08-29T16:04:56.081138Z",
     "iopub.status.busy": "2025-08-29T16:04:56.080971Z",
     "iopub.status.idle": "2025-08-29T16:04:56.314371Z",
     "shell.execute_reply": "2025-08-29T16:04:56.314016Z"
    },
    "papermill": {
     "duration": 0.235866,
     "end_time": "2025-08-29T16:04:56.315531",
     "exception": false,
     "start_time": "2025-08-29T16:04:56.079665",
     "status": "completed"
    },
    "tags": [
     "parameters"
    ]
   },
   "outputs": [],
   "source": [
    "with open('data/04_final_data/final_edges.geojson', encoding='utf-8') as f:\n",
    "    edges_geo = json.load(f)\n",
    "nodes_df = pd.read_csv('data/04_final_data/final_nodes.csv')\n",
    "tree_char_df = pd.read_csv('data/02_intermediate/tree-characteristics.csv')\n",
    "\n",
    "def get_seasonal_trees(season):\n",
    "    return set(tree_char_df[tree_char_df[season] == 1]['수목명'])\n",
    "\n",
    "node_pos = {row['osmid']: (row['lat'], row['lon']) for _, row in nodes_df.iterrows()}"
   ]
  },
  {
   "cell_type": "code",
   "execution_count": 5,
   "id": "3db12098",
   "metadata": {
    "execution": {
     "iopub.execute_input": "2025-08-29T16:04:56.318519Z",
     "iopub.status.busy": "2025-08-29T16:04:56.318417Z",
     "iopub.status.idle": "2025-08-29T16:04:56.359609Z",
     "shell.execute_reply": "2025-08-29T16:04:56.359313Z"
    },
    "papermill": {
     "duration": 0.043334,
     "end_time": "2025-08-29T16:04:56.360341",
     "exception": false,
     "start_time": "2025-08-29T16:04:56.317007",
     "status": "completed"
    },
    "tags": [
     "parameters"
    ]
   },
   "outputs": [],
   "source": [
    "#동대문구 전체 그래프 생성\n",
    "G = nx.Graph()\n",
    "for feature in edges_geo['features']:\n",
    "    props = feature['properties']\n",
    "    u, v = props['u'], props['v']\n",
    "    length = props.get('length', 1)\n",
    "    type_keys = ['park', 'mountain', 'river', 'tree-line', 'road']\n",
    "    edge_type = next((k for k in type_keys if props.get(k, 0) == 1), 'road') #도로 유형 속성이 1인거 찾기\n",
    "    tree_names = props.get('tree', '').split() #수목명 리스트로 저장\n",
    "    road_name = props.get('name', '')\n",
    "    G.add_edge(u, v, length=length, type=edge_type, tree=tree_names, road_name=road_name)\n",
    "\n",
    "#엣지 출력\n",
    "#edge = list(G.edges(data=True))[0]\n",
    "#print(edge)\n",
    "\n",
    "#산책 반경에 맞는 서브그래프 생성\n",
    "def filter_graph_by_bbox_and_type(G, node_pos, start_lat, start_lon, walk_km, bbox_km=2.0):\n",
    "    lat_margin = bbox_km / 111.0\n",
    "    lon_margin = bbox_km / 88.0\n",
    "    min_lat, max_lat = start_lat - lat_margin, start_lat + lat_margin\n",
    "    min_lon, max_lon = start_lon - lon_margin, start_lon + lon_margin\n",
    "    nodes_in_bbox = [osmid for osmid, (lat, lon) in node_pos.items() if min_lat <= lat <= max_lat and min_lon <= lon <= max_lon]\n",
    "    subG = G.subgraph(nodes_in_bbox).copy()\n",
    "    return subG"
   ]
  },
  {
   "cell_type": "code",
   "execution_count": 6,
   "id": "2f6b5ebd",
   "metadata": {
    "execution": {
     "iopub.execute_input": "2025-08-29T16:04:56.362686Z",
     "iopub.status.busy": "2025-08-29T16:04:56.362595Z",
     "iopub.status.idle": "2025-08-29T16:04:56.365401Z",
     "shell.execute_reply": "2025-08-29T16:04:56.365139Z"
    },
    "papermill": {
     "duration": 0.004697,
     "end_time": "2025-08-29T16:04:56.366083",
     "exception": false,
     "start_time": "2025-08-29T16:04:56.361386",
     "status": "completed"
    },
    "tags": [
     "parameters"
    ]
   },
   "outputs": [],
   "source": [
    "#매력도 계산\n",
    "def get_preference_score(data, season, poi_type='default'):\n",
    "    seasonal_trees = get_seasonal_trees(season)\n",
    "    # poi_type에 따라 type_weight_map 다르게 적용\n",
    "    if poi_type == 'park':\n",
    "        type_weight_map = { 'park': 0.01, 'river': 0.3, 'mountain': 0.3, 'tree-line': 0.5, 'road': 1.5}\n",
    "    elif poi_type == 'river':\n",
    "        type_weight_map = { 'park': 0.3, 'river': 0.01, 'mountain': 0.3, 'tree-line': 0.5, 'road': 1.5}\n",
    "    elif poi_type == 'mountain':\n",
    "        type_weight_map = { 'park': 0.3, 'river': 0.3, 'mountain': 0.01, 'tree-line': 0.5, 'road': 1.5}\n",
    "\n",
    "    type_modifier = type_weight_map.get(data.get('type')) \n",
    "    tree_modifier = 0.9 if any(t in seasonal_trees for t in data.get('tree', [])) else 1.1\n",
    "    return type_modifier * tree_modifier\n",
    "\n",
    "#실제 그래프 엣지 가중치: 매력도 * 거리\n",
    "def edge_weight(u, v, season, G, poi_type='default'):\n",
    "    data = G[u][v]\n",
    "    preference_score = get_preference_score(data, season, poi_type)\n",
    "    return preference_score * data['length']"
   ]
  },
  {
   "cell_type": "code",
   "execution_count": 7,
   "id": "636dad64",
   "metadata": {
    "execution": {
     "iopub.execute_input": "2025-08-29T16:04:56.368481Z",
     "iopub.status.busy": "2025-08-29T16:04:56.368390Z",
     "iopub.status.idle": "2025-08-29T16:04:56.372633Z",
     "shell.execute_reply": "2025-08-29T16:04:56.372435Z"
    },
    "papermill": {
     "duration": 0.006041,
     "end_time": "2025-08-29T16:04:56.373227",
     "exception": false,
     "start_time": "2025-08-29T16:04:56.367186",
     "status": "completed"
    },
    "tags": [
     "parameters"
    ]
   },
   "outputs": [],
   "source": [
    "def recommend_path(G, node_pos, start_lat, start_lon, season, total_walk_km, poi_type, tolerance=0.2):\n",
    "    # 시작점 노드 찾기\n",
    "    node_coords = list(node_pos.values())\n",
    "    node_osmids = list(node_pos.keys())\n",
    "    kdtree = KDTree(node_coords)\n",
    "    _, start_node_idx = kdtree.query([start_lat, start_lon])\n",
    "    start_osmid = node_osmids[start_node_idx]\n",
    "\n",
    "    # 서브그래프 생성\n",
    "    subG = filter_graph_by_bbox_and_type(G, node_pos, start_lat, start_lon, total_walk_km)\n",
    "    if not subG.has_node(start_osmid):\n",
    "        print(\"error: 시작점 주변에 탐색할 경로가 없습니다.\")\n",
    "        return None\n",
    "        \n",
    "    # 경로 탐색용 가중치 적용 (매력도+거리)\n",
    "    for u, v in subG.edges():\n",
    "        subG[u][v]['weight'] = edge_weight(u, v, season, subG, poi_type)\n",
    "\n",
    "    # 매력적인 산책로 찾기 (유형별 필터링 추가)\n",
    "    edge_preferences = [((u, v), get_preference_score(data, season, poi_type))\n",
    "                    for u, v, data in subG.edges(data=True) if data.get('type') == poi_type]\n",
    "    best_edges = [edge for edge, score in sorted(edge_preferences, key=lambda x: x[1])[:max(1, int(len(edge_preferences) * 0.1))]]\n",
    "    pois = {n for u, v in best_edges for n in (u, v)}\n",
    "    if not pois:\n",
    "        print(\"error: 주변에 추천할 만한 경로가 없습니다.\")\n",
    "        return None\n",
    "\n",
    "    # 시작점에서 POI까지의 최단 경로 길이 계산\n",
    "    try:\n",
    "        path_lengths = nx.single_source_dijkstra_path_length(subG, start_osmid, weight='length')\n",
    "    except nx.NetworkXNoPath:\n",
    "        print(f\"error: 시작점 {start_osmid}이(가) 주변 경로와 연결되어 있지 않습니다.\")\n",
    "        return None\n",
    "\n",
    "    # 목표 편도 거리에 맞는 POI 후보군 필터링\n",
    "    candidates = []\n",
    "    target_one_way_m = total_walk_km * 1000 / 2  # 목표 거리를 절반으로 설정\n",
    "    for poi in pois:\n",
    "        if poi in path_lengths: #우리가 설정한 시간만에 갈수있는지\n",
    "            path_length_to_poi = path_lengths[poi]\n",
    "            # 편도 거리를 기준으로 비교\n",
    "            if abs(path_length_to_poi - target_one_way_m) <= target_one_way_m * tolerance:\n",
    "                candidates.append((poi, path_length_to_poi))\n",
    "\n",
    "    if not candidates:\n",
    "        print(f\"error: {total_walk_km}km 왕복 거리에 맞는 추천 경로를 찾지 못했습니다.\")\n",
    "        return None\n",
    "\n",
    "    # 목표 편도 거리에 가장 근접한 산책로를 목적지로 선택\n",
    "    best_poi, _ = min(candidates, key=lambda x: abs(x[1] - target_one_way_m))\n",
    "    # 가중치(매력도+거리) 반영해서 최적 경로 계산\n",
    "    final_path = nx.shortest_path(subG, start_osmid, best_poi, weight='weight')\n",
    "    \n",
    "    return final_path"
   ]
  },
  {
   "cell_type": "code",
   "execution_count": 8,
   "id": "5844146a",
   "metadata": {
    "execution": {
     "iopub.execute_input": "2025-08-29T16:04:56.375346Z",
     "iopub.status.busy": "2025-08-29T16:04:56.375252Z",
     "iopub.status.idle": "2025-08-29T16:04:57.754801Z",
     "shell.execute_reply": "2025-08-29T16:04:57.754491Z"
    },
    "papermill": {
     "duration": 1.381483,
     "end_time": "2025-08-29T16:04:57.755618",
     "exception": false,
     "start_time": "2025-08-29T16:04:56.374135",
     "status": "completed"
    },
    "tags": [
     "parameters"
    ]
   },
   "outputs": [
    {
     "name": "stdout",
     "output_type": "stream",
     "text": [
      "--- mountain POI 경로 추천 ---\n",
      "편도 거리: 1.46 km\n",
      "왕복 시 예상 거리: 2.93 km\n",
      "예상 소요 시간(왕복): 44분\n",
      "경로에서 볼 수 있는 계절 수목: 잣나무, 느티나무, 은행나무, 양버즘나무\n",
      "--- river POI 경로 추천 ---\n",
      "편도 거리: 1.99 km\n",
      "왕복 시 예상 거리: 3.99 km\n",
      "예상 소요 시간(왕복): 60분\n",
      "경로에서 볼 수 있는 계절 수목: 은행나무, 양버즘나무\n",
      "--- park POI 경로 추천 ---\n",
      "편도 거리: 1.50 km\n",
      "왕복 시 예상 거리: 3.01 km\n",
      "예상 소요 시간(왕복): 45분\n",
      "경로에서 볼 수 있는 계절 수목: 향나무, 은행나무, 양버즘나무\n",
      "poi_tree_list.json 파일로 각 경로별 반환점 도로명과 계절 수목 리스트가 저장되었습니다.\n"
     ]
    }
   ],
   "source": [
    "# 추천 유형 리스트 (예: 산, 강, 공원)\n",
    "poi_types = ['mountain', 'river', 'park']\n",
    "results = []\n",
    "\n",
    "for poi_type in poi_types:\n",
    "    path = recommend_path(G, node_pos, start_lat, start_lon, season, walk_km, poi_type, tolerance=0.3)\n",
    "    results.append(path)\n",
    "\n",
    "poi_tree_list = []\n",
    "for idx, path_nodes in enumerate(results):\n",
    "    if path_nodes:\n",
    "        one_way_length = sum(G.edges[path_nodes[i], path_nodes[i+1]]['length'] for i in range(len(path_nodes)-1))\n",
    "        print(f\"--- {poi_types[idx]} POI 경로 추천 ---\")\n",
    "        print(f\"편도 거리: {one_way_length/1000:.2f} km\")\n",
    "        print(f\"왕복 시 예상 거리: {one_way_length*2/1000:.2f} km\")\n",
    "        round_trip_time_min = one_way_length * 2 / (4000 / 60)\n",
    "        print(f\"예상 소요 시간(왕복): {round_trip_time_min:.0f}분\")\n",
    "        poi_type = poi_types[idx]\n",
    "        poi_road_name = G.edges[path_nodes[-2], path_nodes[-1]].get('road_name', '')\n",
    "        if poi_road_name:\n",
    "            poi_road_name = f\"{poi_road_name}-{poi_type}\"  # ← 타입 붙이기\n",
    "        else:\n",
    "            poi_road_name = poi_type  # 도로명이 없으면 타입만\n",
    "        seasonal_trees_on_path = {\n",
    "            tree\n",
    "            for u, v in zip(path_nodes, path_nodes[1:])\n",
    "            for tree in G.edges[u, v].get('tree', [])\n",
    "            if tree in get_seasonal_trees(season)\n",
    "        }\n",
    "        if seasonal_trees_on_path:\n",
    "            print(f\"경로에서 볼 수 있는 계절 수목: {', '.join(seasonal_trees_on_path)}\")\n",
    "        # 리스트에 저장\n",
    "        poi_tree_list.append([poi_road_name, list(seasonal_trees_on_path)])\n",
    "    else:\n",
    "        print(f'error: {poi_types[idx]} 경로를 찾지 못했습니다.')\n",
    "\n",
    "# 파일로 저장 (예: json)\n",
    "import json\n",
    "with open('backend/app/services/path_reccomendation/poi_tree_list.json', 'w', encoding='utf-8') as f:\n",
    "    json.dump(poi_tree_list, f, ensure_ascii=False, indent=2)\n",
    "print('poi_tree_list.json 파일로 각 경로별 반환점 도로명과 계절 수목 리스트가 저장되었습니다.')"
   ]
  },
  {
   "cell_type": "code",
   "execution_count": 9,
   "id": "a5f9173f",
   "metadata": {
    "execution": {
     "iopub.execute_input": "2025-08-29T16:04:57.758811Z",
     "iopub.status.busy": "2025-08-29T16:04:57.758697Z",
     "iopub.status.idle": "2025-08-29T16:04:57.769531Z",
     "shell.execute_reply": "2025-08-29T16:04:57.769302Z"
    },
    "papermill": {
     "duration": 0.01297,
     "end_time": "2025-08-29T16:04:57.770202",
     "exception": false,
     "start_time": "2025-08-29T16:04:57.757232",
     "status": "completed"
    },
    "tags": [
     "parameters"
    ]
   },
   "outputs": [
    {
     "name": "stdout",
     "output_type": "stream",
     "text": [
      "\n",
      "'recommended_walk_path_all.html' 파일에 3가지 경로가 모두 시각화되었습니다.\n"
     ]
    }
   ],
   "source": [
    "colors = {'mountain': 'green', 'river': 'blue', 'park': 'orange'}\n",
    "multi_map = folium.Map(location=[start_lat, start_lon], zoom_start=15)\n",
    "folium.Marker(location=[start_lat, start_lon], popup=\"시작점\", icon=folium.Icon(color='red')).add_to(multi_map)\n",
    "for idx, path_nodes in enumerate(results):\n",
    "    if path_nodes:\n",
    "        end_pos = node_pos[path_nodes[-1]]\n",
    "        folium.Marker(location=end_pos, popup=f\"{poi_types[idx]} 반환점\", icon=folium.Icon(color='blue')).add_to(multi_map)\n",
    "        path_coords = [node_pos[node] for node in path_nodes]\n",
    "        folium.PolyLine(locations=path_coords, color=colors[poi_types[idx]], weight=5, opacity=0.8, popup=f\"{poi_types[idx]} 경로\").add_to(multi_map)\n",
    "\n",
    "multi_map.save('backend/app/services/path_reccomendation/recommended_walk_path_all.html')\n",
    "print(\"\\n'recommended_walk_path_all.html' 파일에 3가지 경로가 모두 시각화되었습니다.\")"
   ]
  },
  {
   "cell_type": "code",
   "execution_count": 10,
   "id": "bd0fe562",
   "metadata": {
    "execution": {
     "iopub.execute_input": "2025-08-29T16:04:57.773634Z",
     "iopub.status.busy": "2025-08-29T16:04:57.773517Z",
     "iopub.status.idle": "2025-08-29T16:04:57.776941Z",
     "shell.execute_reply": "2025-08-29T16:04:57.776630Z"
    },
    "papermill": {
     "duration": 0.006343,
     "end_time": "2025-08-29T16:04:57.777831",
     "exception": false,
     "start_time": "2025-08-29T16:04:57.771488",
     "status": "completed"
    },
    "tags": [
     "parameters"
    ]
   },
   "outputs": [
    {
     "name": "stdout",
     "output_type": "stream",
     "text": [
      "results_path.geojson 파일로 3개 경로가 LineString geojson으로 저장되었습니다.\n"
     ]
    }
   ],
   "source": [
    "# 최종 3개 경로를 LineString geojson으로 저장\n",
    "geojson_features = []\n",
    "for idx, path_nodes in enumerate(results):\n",
    "    if path_nodes:\n",
    "        coords = [node_pos[node] for node in path_nodes]\n",
    "        feature = {\n",
    "            \"type\": \"Feature\",\n",
    "            \"properties\": {\n",
    "                \"name\": poi_types[idx]\n",
    "            },\n",
    "            \"geometry\": {\n",
    "                \"type\": \"LineString\",\n",
    "                \"coordinates\": [[lon, lat] for lat, lon in coords]\n",
    "            }\n",
    "        }\n",
    "        geojson_features.append(feature)\n",
    "geojson_obj = {\n",
    "    \"type\": \"FeatureCollection\",\n",
    "    \"features\": geojson_features\n",
    "}\n",
    "with open('backend/app/services/path_reccomendation/results_path.geojson', 'w', encoding='utf-8') as f:\n",
    "    json.dump(geojson_obj, f, ensure_ascii=False, indent=2)\n",
    "print('results_path.geojson 파일로 3개 경로가 LineString geojson으로 저장되었습니다.')"
   ]
  }
 ],
 "metadata": {
  "kernelspec": {
   "display_name": ".venv",
   "language": "python",
   "name": "python3"
  },
  "language_info": {
   "codemirror_mode": {
    "name": "ipython",
    "version": 3
   },
   "file_extension": ".py",
   "mimetype": "text/x-python",
   "name": "python",
   "nbconvert_exporter": "python",
   "pygments_lexer": "ipython3",
   "version": "3.11.13"
  },
  "papermill": {
   "default_parameters": {},
   "duration": 3.348395,
   "end_time": "2025-08-29T16:04:58.098886",
   "environment_variables": {},
   "exception": null,
   "input_path": "backend/app/services/path_reccomendation/path.ipynb",
   "output_path": "backend/app/services/path_reccomendation/path_out.ipynb",
   "parameters": {
    "season": "여름",
    "start_lat": 37.571058144694945,
    "start_lon": 127.0695885049667,
    "walk_km": 2.92
   },
   "start_time": "2025-08-29T16:04:54.750491",
   "version": "2.6.0"
  }
 },
 "nbformat": 4,
 "nbformat_minor": 5
}