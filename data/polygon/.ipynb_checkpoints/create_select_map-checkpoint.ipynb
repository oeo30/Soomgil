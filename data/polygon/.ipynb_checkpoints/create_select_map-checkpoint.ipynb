{
 "cells": [
  {
   "cell_type": "code",
   "execution_count": null,
   "id": "009cf689-869a-4c22-821f-19df387095dc",
   "metadata": {},
   "outputs": [],
   "source": [
    "%pip install folium pandas shapely geopandas"
   ]
  },
  {
   "cell_type": "code",
   "execution_count": null,
   "id": "1497f6b1-27e3-4b6c-915a-821adc7335db",
   "metadata": {},
   "outputs": [],
   "source": [
    "import folium\n",
    "from folium.plugins import Draw\n",
    "import pandas as pd"
   ]
  },
  {
   "cell_type": "code",
   "execution_count": 2,
   "id": "d122437c-478b-49f5-bbb6-c2e8fd71989b",
   "metadata": {},
   "outputs": [
    {
     "data": {
      "text/html": [
       "<div>\n",
       "<style scoped>\n",
       "    .dataframe tbody tr th:only-of-type {\n",
       "        vertical-align: middle;\n",
       "    }\n",
       "\n",
       "    .dataframe tbody tr th {\n",
       "        vertical-align: top;\n",
       "    }\n",
       "\n",
       "    .dataframe thead th {\n",
       "        text-align: right;\n",
       "    }\n",
       "</style>\n",
       "<table border=\"1\" class=\"dataframe\">\n",
       "  <thead>\n",
       "    <tr style=\"text-align: right;\">\n",
       "      <th></th>\n",
       "      <th>osmid</th>\n",
       "      <th>lat</th>\n",
       "      <th>lon</th>\n",
       "    </tr>\n",
       "  </thead>\n",
       "  <tbody>\n",
       "    <tr>\n",
       "      <th>0</th>\n",
       "      <td>287288045</td>\n",
       "      <td>37.582658</td>\n",
       "      <td>127.029529</td>\n",
       "    </tr>\n",
       "    <tr>\n",
       "      <th>1</th>\n",
       "      <td>287710021</td>\n",
       "      <td>37.579950</td>\n",
       "      <td>127.045220</td>\n",
       "    </tr>\n",
       "    <tr>\n",
       "      <th>2</th>\n",
       "      <td>287710035</td>\n",
       "      <td>37.580120</td>\n",
       "      <td>127.045007</td>\n",
       "    </tr>\n",
       "    <tr>\n",
       "      <th>3</th>\n",
       "      <td>414683355</td>\n",
       "      <td>37.576374</td>\n",
       "      <td>127.034500</td>\n",
       "    </tr>\n",
       "    <tr>\n",
       "      <th>4</th>\n",
       "      <td>414685840</td>\n",
       "      <td>37.565406</td>\n",
       "      <td>127.054790</td>\n",
       "    </tr>\n",
       "  </tbody>\n",
       "</table>\n",
       "</div>"
      ],
      "text/plain": [
       "       osmid        lat         lon\n",
       "0  287288045  37.582658  127.029529\n",
       "1  287710021  37.579950  127.045220\n",
       "2  287710035  37.580120  127.045007\n",
       "3  414683355  37.576374  127.034500\n",
       "4  414685840  37.565406  127.054790"
      ]
     },
     "execution_count": 2,
     "metadata": {},
     "output_type": "execute_result"
    }
   ],
   "source": [
    "# 데이터 읽기\n",
    "nodes_gdf = pd.read_csv(\"nodes.csv\")\n",
    "nodes_gdf.head(5)"
   ]
  },
  {
   "cell_type": "code",
   "execution_count": 3,
   "id": "e2f32050-7e8b-4565-a79a-66f0de52940b",
   "metadata": {},
   "outputs": [],
   "source": [
    "# 지도 생성 및 표시\n",
    "center_lat = nodes_gdf[\"lat\"].mean()\n",
    "center_lon = nodes_gdf[\"lon\"].mean()\n",
    "m = folium.Map(location=[center_lat, center_lon], zoom_start=14)\n",
    "\n",
    "# Esri.WorldImagery 스타일 적용\n",
    "folium.TileLayer(\n",
    "    tiles='https://server.arcgisonline.com/ArcGIS/rest/services/World_Imagery/MapServer/tile/{z}/{y}/{x}',\n",
    "    attr='Tiles © Esri — Source: Esri, i-cubed, USDA, USGS, AEX, GeoEye, '\n",
    "         'Getmapping, Aerogrid, IGN, IGP, UPR-EGP, and the GIS User Community',\n",
    "    name='Esri.WorldImagery',\n",
    "    overlay=False,\n",
    "    control=True\n",
    ").add_to(m)\n",
    "\n",
    "# 노드 마커 표시\n",
    "for _, row in nodes_gdf.iterrows():\n",
    "    folium.CircleMarker(\n",
    "        location=[row[\"lat\"], row[\"lon\"]],\n",
    "        radius=2,\n",
    "        color=\"#ff6b6b\",\n",
    "        fill=True,\n",
    "        fill_opacity=0.8\n",
    "    ).add_to(m)\n",
    "\n",
    "# Draw 플러그인 추가\n",
    "draw = Draw(\n",
    "    export=True,\n",
    "    filename='selected_area.geojson',\n",
    "    position='topleft',\n",
    "    draw_options={\n",
    "        'polygon': True,\n",
    "        'rectangle': True,\n",
    "        'polyline': False,\n",
    "        'circle': False,\n",
    "        'marker': False,\n",
    "        'circlemarker': False\n",
    "    },\n",
    "    edit_options={'edit': False}\n",
    ")\n",
    "draw.add_to(m)\n",
    "\n",
    "# 지도 HTML로 저장\n",
    "m.save(\"select_map.html\")"
   ]
  },
  {
   "cell_type": "code",
   "execution_count": null,
   "id": "c83728b9-c4f4-4198-9c16-abec6833105f",
   "metadata": {},
   "outputs": [],
   "source": [
    "m"
   ]
  }
 ],
 "metadata": {
  "kernelspec": {
   "display_name": "Python 3 (ipykernel)",
   "language": "python",
   "name": "python3"
  },
  "language_info": {
   "codemirror_mode": {
    "name": "ipython",
    "version": 3
   },
   "file_extension": ".py",
   "mimetype": "text/x-python",
   "name": "python",
   "nbconvert_exporter": "python",
   "pygments_lexer": "ipython3",
   "version": "3.13.5"
  }
 },
 "nbformat": 4,
 "nbformat_minor": 5
}
