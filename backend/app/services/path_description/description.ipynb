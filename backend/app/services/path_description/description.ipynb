{
  "cells": [
    {
      "cell_type": "code",
      "execution_count": null,
      "metadata": {},
      "outputs": [],
      "source": [
        "import os\n",
        "import google.generativeai as genai\n",
        "from dotenv import load_dotenv\n",
        "from weather import get_weather, get_season\n",
        "import json"
      ]
    },
    {
      "cell_type": "code",
      "execution_count": null,
      "metadata": {},
      "outputs": [],
      "source": [
        "load_dotenv()\n",
        "try:\n",
        "    api_key = os.environ.get(\"GEMINI_API_KEY\")\n",
        "    genai.configure(api_key=api_key)\n",
        "    model = genai.GenerativeModel('gemini-1.5-flash') # 최신 경량 모델\n",
        "except Exception as e:\n",
        "    print(\"error: Gemini API 키 설정에 문제가 발생했습니다. 환경 변수 또는 코드에 키를 입력해주세요.\")\n",
        "    print(f\"오류: {e}\")\n",
        "    model = None"
      ]
    },
    {
      "cell_type": "code",
      "execution_count": null,
      "metadata": {},
      "outputs": [],
      "source": [
        "def generate_path_description_gemini(path_name: str, weather: str, season: str, trees: list) -> str:\n",
        "    if not model:\n",
        "        return \"Gemini 모델이 초기화되지 않았습니다.\"\n",
        "    tree_list_str = \", \".join(trees) if trees else \"특별한 나무는 없지만\"\n",
        "    prompt = f\"\"\"\n",
        "                너는 사용자에게 산책로를 추천해주는 친절한 가이드야. 아래 주어진 정보를 바탕으로, \n",
        "                감성적이고 부드러운 톤으로 2 문장의 산책로 추천 문구를 한국어로 작성해 줘.\n",
        "\n",
        "                ### 정보\n",
        "                - 주요 경로 이름: {path_name}\n",
        "                - 날씨: {weather}\n",
        "                - 계절: {season}\n",
        "                - 특별한 나무: {tree_list_str}\n",
        "\n",
        "                ### 이제 아래 정보로 추천 문구를 생성해 줘.\n",
        "                \"\"\"\n",
        "\n",
        "    try:\n",
        "        response = model.generate_content(prompt) #API 호출\n",
        "        return response.text.strip()\n",
        "    except Exception as e:\n",
        "        print(f\"Gemini API 호출 중 오류가 발생했습니다: {e}\")\n",
        "        return None\n",
        "\n",
        "if __name__ == \"__main__\":\n",
        "    weather_info = get_weather(city=\"Seoul\", country=\"KR\")\n",
        "    season = get_season()\n",
        "\n",
        "    with open(\"backend/app/services/path_reccomendation/poi_tree_list.json\", \"r\", encoding=\"utf-8\") as f:\n",
        "        poi_tree_list = json.load(f)\n",
        "\n",
        "    path_data_list = []\n",
        "    for item in poi_tree_list:\n",
        "        path_name = item[0] if item and isinstance(item[0], str) else \"경로명 없음\"\n",
        "        trees = item[1] if len(item) > 1 else []\n",
        "        description = generate_path_description_gemini(\n",
        "            path_name=path_name,\n",
        "            weather=weather_info,\n",
        "            season=season,\n",
        "            trees=trees\n",
        "        )\n",
        "        print(f\"--- {path_name} 설명 ---\")\n",
        "        if description:\n",
        "            print(description)\n",
        "        else:\n",
        "            print(\"경로 설명 생성 실패\")\n",
        "        if 'description_results' not in locals():\n",
        "            description_results = []\n",
        "        description_results.append({\n",
        "            \"path_name\": path_name,\n",
        "            \"description\": description if description else \"경로 설명 생성 실패\"\n",
        "        })\n",
        "\n",
        "    # 모든 경로 설명 결과를 json 파일로 저장\n",
        "    with open(\"backend/app/services/path_description/description_results.json\", \"w\", encoding=\"utf-8\") as f:\n",
        "        json.dump(description_results, f, ensure_ascii=False, indent=2)\n",
        "    print(\"description_results.json 파일로 경로별 설명 결과가 저장되었습니다.\")"
      ]
    }
  ],
  "metadata": {
    "language_info": {
      "name": "python"
    }
  },
  "nbformat": 4,
  "nbformat_minor": 4
}
