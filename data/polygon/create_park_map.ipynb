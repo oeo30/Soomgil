{
 "cells": [
  {
   "cell_type": "markdown",
   "id": "bd6ec282-1a87-4b62-a3d9-926b9b74447b",
   "metadata": {},
   "source": [
    "### **공원 표시**"
   ]
  },
  {
   "cell_type": "code",
   "execution_count": null,
   "id": "8a0e62e9",
   "metadata": {},
   "outputs": [],
   "source": [
    "%pip install folium pandas shapely geopandas"
   ]
  },
  {
   "cell_type": "code",
   "execution_count": 1,
   "id": "397d8f68",
   "metadata": {},
   "outputs": [],
   "source": [
    "import folium\n",
    "import pandas as pd\n",
    "import matplotlib.pyplot as plt\n",
    "import matplotlib.colors as mcolors  # 색상 변환 모듈"
   ]
  },
  {
   "cell_type": "code",
   "execution_count": 3,
   "id": "0484480f-c942-4f7b-92da-2f23087e32b4",
   "metadata": {},
   "outputs": [
    {
     "data": {
      "text/plain": [
       "<folium.raster_layers.TileLayer at 0x1ee83609310>"
      ]
     },
     "execution_count": 3,
     "metadata": {},
     "output_type": "execute_result"
    }
   ],
   "source": [
    "nodes_gdf = pd.read_csv(\"../raw/ddm-park-tree.csv\")\n",
    "nodes_gdf.rename(columns={\"공원명\": \"park_name\", \"수목위도\": \"lat\", \"수목경도\": \"lon\"}, inplace=True)\n",
    "\n",
    "# 중심 좌표 (평균값)\n",
    "center_lat = nodes_gdf[\"lat\"].mean()\n",
    "center_lon = nodes_gdf[\"lon\"].mean()\n",
    "\n",
    "# folium 지도 생성 (Esri 위성 지도 스타일 적용)\n",
    "m = folium.Map(location=[center_lat, center_lon], zoom_start=14)\n",
    "folium.TileLayer(\n",
    "    tiles='https://server.arcgisonline.com/ArcGIS/rest/services/World_Imagery/MapServer/tile/{z}/{y}/{x}',\n",
    "    attr='Tiles © Esri — Source: Esri, i-cubed, USDA, USGS, AEX, GeoEye, '\n",
    "         'Getmapping, Aerogrid, IGN, IGP, UPR-EGP, and the GIS User Community',\n",
    "    name='Esri.WorldImagery',\n",
    "    overlay=False,\n",
    "    control=True\n",
    ").add_to(m)"
   ]
  },
  {
   "cell_type": "code",
   "execution_count": 4,
   "id": "56fba78a-9525-4630-80c4-60b74b6a61cf",
   "metadata": {},
   "outputs": [],
   "source": [
    "# 공원 종류 추\n",
    "unique_parks = nodes_gdf[\"park_name\"].unique()\n",
    "\n",
    "# colormap 가져오기\n",
    "cmap = plt.colormaps[\"tab20\"]  # \"tab10\", \"tab20\", \"Set1\" 등 가능  \n",
    "\n",
    "# 공원 개수만큼 색상 추출\n",
    "color_list = [mcolors.to_hex(cmap(i / len(unique_parks))) for i in range(len(unique_parks))]\n",
    "\n",
    "# 공원명 → 색상 매핑\n",
    "park_color_map = dict(zip(unique_parks, color_list))"
   ]
  },
  {
   "cell_type": "code",
   "execution_count": 5,
   "id": "7a35acbd-028e-4a30-b118-bfb4919601d2",
   "metadata": {},
   "outputs": [],
   "source": [
    "for _, row in nodes_gdf.iterrows():\n",
    "    park = row[\"park_name\"]\n",
    "    color = park_color_map[park]\n",
    "\n",
    "    folium.CircleMarker(\n",
    "        location=[row[\"lat\"], row[\"lon\"]],\n",
    "        radius=3,\n",
    "        color=color,\n",
    "        fill=True,\n",
    "        fill_color=color,\n",
    "        fill_opacity=0.7,\n",
    "        popup=f\"{park}\"\n",
    "    ).add_to(m)\n",
    "\n",
    "m.save(\"park_map.html\")"
   ]
  },
  {
   "cell_type": "code",
   "execution_count": 6,
   "id": "6c584b5f-3790-4377-a6af-6063e21a1149",
   "metadata": {},
   "outputs": [
    {
     "data": {
      "text/plain": [
       "array(['장안근린공원', '장평근린공원', '새샘근린공원', '텃골근린공원', '용두공원', '마로니에공원', '우산각공원',\n",
       "       '아름드리공원', '장미공원', '샛별공원', '한내공원', '동산공원', '휘경공원', '장이공원', '방아다리공원',\n",
       "       '미나리공원', '늘봄공원', '장일공원', '안골공원', '이삭공원'], dtype=object)"
      ]
     },
     "execution_count": 6,
     "metadata": {},
     "output_type": "execute_result"
    }
   ],
   "source": [
    "unique_parks"
   ]
  }
 ],
 "metadata": {
  "kernelspec": {
   "display_name": "Python 3 (ipykernel)",
   "language": "python",
   "name": "python3"
  },
  "language_info": {
   "codemirror_mode": {
    "name": "ipython",
    "version": 3
   },
   "file_extension": ".py",
   "mimetype": "text/x-python",
   "name": "python",
   "nbconvert_exporter": "python",
   "pygments_lexer": "ipython3",
   "version": "3.13.5"
  }
 },
 "nbformat": 4,
 "nbformat_minor": 5
}
