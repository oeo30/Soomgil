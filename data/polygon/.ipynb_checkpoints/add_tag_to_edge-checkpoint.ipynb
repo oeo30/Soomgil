{
 "cells": [
  {
   "cell_type": "code",
   "execution_count": 9,
   "id": "d710e4b3-d73e-47af-81e2-0619642ddfe4",
   "metadata": {},
   "outputs": [],
   "source": [
    "import pandas as pd\n",
    "from shapely.geometry import Point, shape\n",
    "import json\n",
    "import geopandas as gpd\n",
    "from shapely.ops import unary_union"
   ]
  },
  {
   "cell_type": "code",
   "execution_count": 12,
   "id": "8ee4ec8f-8d25-4946-b3bd-3b945a08e64d",
   "metadata": {},
   "outputs": [
    {
     "name": "stderr",
     "output_type": "stream",
     "text": [
      "Skipping field highway: unsupported OGR type: 5\n",
      "Skipping field name: unsupported OGR type: 5\n"
     ]
    }
   ],
   "source": [
    "edges_gdf = gpd.read_file(\"../processed/edges.geojson\")\n",
    "\n",
    "# park_area 불러오기\n",
    "with open(\"polygon_data/park_area.geojson\") as f:\n",
    "    park_data = json.load(f)\n",
    "park_polygon = unary_union([shape(feat[\"geometry\"]) for feat in park_data[\"features\"]])\n",
    "\n",
    "# mountain_area 불러오기\n",
    "with open(\"polygon_data/mountain_area.geojson\") as f:\n",
    "    mountain_data = json.load(f)\n",
    "mountain_polygon = unary_union([shape(feat[\"geometry\"]) for feat in mountain_data[\"features\"]])\n",
    "\n",
    "# river_area 불러오기\n",
    "with open(\"polygon_data/river_area.geojson\") as f:\n",
    "    river_data = json.load(f)\n",
    "river_polygon = unary_union([shape(feat[\"geometry\"]) for feat in river_data[\"features\"]])"
   ]
  },
  {
   "cell_type": "code",
   "execution_count": 16,
   "id": "c254e9c8-06e3-498c-87b9-d95b5f492fae",
   "metadata": {},
   "outputs": [
    {
     "data": {
      "image/svg+xml": [
       "<svg xmlns=\"http://www.w3.org/2000/svg\" xmlns:xlink=\"http://www.w3.org/1999/xlink\" width=\"100.0\" height=\"100.0\" viewBox=\"127.06678432 37.55702232 0.014695360000004598 0.05531435999999701\" preserveAspectRatio=\"xMinYMin meet\"><g transform=\"matrix(1,0,0,-1,0,75.169359)\"><path fill-rule=\"evenodd\" fill=\"#66cc99\" stroke=\"#555555\" stroke-width=\"0.0011062871999999403\" opacity=\"0.6\" d=\"M 127.070828,37.610203 L 127.071021,37.606939 L 127.071536,37.602672 L 127.071772,37.601329 L 127.070292,37.599459 L 127.068919,37.597317 L 127.068833,37.595243 L 127.069391,37.593475 L 127.069927,37.591604 L 127.070378,37.58851 L 127.071386,37.586639 L 127.07396,37.583545 L 127.076385,37.580416 L 127.077157,37.574532 L 127.077415,37.57113 L 127.074626,37.566674 L 127.071107,37.560755 L 127.070442,37.559922 L 127.07248,37.559071 L 127.076363,37.565586 L 127.079431,37.571045 L 127.078637,37.578018 L 127.078273,37.581674 L 127.072287,37.588561 L 127.070764,37.593645 L 127.07025,37.596535 L 127.071731,37.599068 L 127.073425,37.601397 L 127.073683,37.603573 L 127.072568,37.608299 L 127.072332,37.610288 L 127.070828,37.610203 z\" /></g></svg>"
      ],
      "text/plain": [
       "<POLYGON ((127.071 37.61, 127.071 37.607, 127.072 37.603, 127.072 37.601, 12...>"
      ]
     },
     "execution_count": 16,
     "metadata": {},
     "output_type": "execute_result"
    }
   ],
   "source": [
    "river_polygon"
   ]
  },
  {
   "cell_type": "code",
   "execution_count": null,
   "id": "9c7ceef0-4605-4cf7-9e34-9005b2bd5a54",
   "metadata": {},
   "outputs": [],
   "source": [
    "# 영역 안에 포함된 노드 필터링\n",
    "node_mask = nodes_gdf.apply(lambda r: polygon.contains(Point(r['lon'], r['lat'])), axis=1)\n",
    "selected_nodes = nodes_gdf[node_mask]"
   ]
  },
  {
   "cell_type": "code",
   "execution_count": 17,
   "id": "4048020e-d5ed-4290-b932-8c63d0ace695",
   "metadata": {},
   "outputs": [
    {
     "data": {
      "text/html": [
       "<div>\n",
       "<style scoped>\n",
       "    .dataframe tbody tr th:only-of-type {\n",
       "        vertical-align: middle;\n",
       "    }\n",
       "\n",
       "    .dataframe tbody tr th {\n",
       "        vertical-align: top;\n",
       "    }\n",
       "\n",
       "    .dataframe thead th {\n",
       "        text-align: right;\n",
       "    }\n",
       "</style>\n",
       "<table border=\"1\" class=\"dataframe\">\n",
       "  <thead>\n",
       "    <tr style=\"text-align: right;\">\n",
       "      <th></th>\n",
       "      <th>u</th>\n",
       "      <th>v</th>\n",
       "      <th>key</th>\n",
       "      <th>length</th>\n",
       "      <th>geometry</th>\n",
       "    </tr>\n",
       "  </thead>\n",
       "  <tbody>\n",
       "    <tr>\n",
       "      <th>0</th>\n",
       "      <td>287288045</td>\n",
       "      <td>1943131901</td>\n",
       "      <td>0</td>\n",
       "      <td>38.805000</td>\n",
       "      <td>LINESTRING (127.02953 37.58266, 127.0292 37.58...</td>\n",
       "    </tr>\n",
       "    <tr>\n",
       "      <th>1</th>\n",
       "      <td>287288045</td>\n",
       "      <td>1943131877</td>\n",
       "      <td>0</td>\n",
       "      <td>39.840708</td>\n",
       "      <td>LINESTRING (127.02953 37.58266, 127.0296 37.5823)</td>\n",
       "    </tr>\n",
       "    <tr>\n",
       "      <th>2</th>\n",
       "      <td>287288045</td>\n",
       "      <td>3964387739</td>\n",
       "      <td>0</td>\n",
       "      <td>24.542441</td>\n",
       "      <td>LINESTRING (127.02953 37.58266, 127.0297 37.58...</td>\n",
       "    </tr>\n",
       "    <tr>\n",
       "      <th>3</th>\n",
       "      <td>287710021</td>\n",
       "      <td>7068765358</td>\n",
       "      <td>0</td>\n",
       "      <td>4.968920</td>\n",
       "      <td>LINESTRING (127.04522 37.57995, 127.0452 37.57...</td>\n",
       "    </tr>\n",
       "    <tr>\n",
       "      <th>4</th>\n",
       "      <td>287710021</td>\n",
       "      <td>10017702402</td>\n",
       "      <td>0</td>\n",
       "      <td>65.032964</td>\n",
       "      <td>LINESTRING (127.04522 37.57995, 127.04536 37.5...</td>\n",
       "    </tr>\n",
       "    <tr>\n",
       "      <th>...</th>\n",
       "      <td>...</td>\n",
       "      <td>...</td>\n",
       "      <td>...</td>\n",
       "      <td>...</td>\n",
       "      <td>...</td>\n",
       "    </tr>\n",
       "    <tr>\n",
       "      <th>21593</th>\n",
       "      <td>13059159404</td>\n",
       "      <td>3831105905</td>\n",
       "      <td>0</td>\n",
       "      <td>50.734019</td>\n",
       "      <td>LINESTRING (127.06654 37.59626, 127.06644 37.5...</td>\n",
       "    </tr>\n",
       "    <tr>\n",
       "      <th>21594</th>\n",
       "      <td>13059159452</td>\n",
       "      <td>13059152169</td>\n",
       "      <td>0</td>\n",
       "      <td>15.224295</td>\n",
       "      <td>LINESTRING (127.06623 37.59507, 127.06616 37.5...</td>\n",
       "    </tr>\n",
       "    <tr>\n",
       "      <th>21595</th>\n",
       "      <td>13059159452</td>\n",
       "      <td>13059152166</td>\n",
       "      <td>0</td>\n",
       "      <td>11.836931</td>\n",
       "      <td>LINESTRING (127.06623 37.59507, 127.06629 37.5...</td>\n",
       "    </tr>\n",
       "    <tr>\n",
       "      <th>21596</th>\n",
       "      <td>13059159452</td>\n",
       "      <td>13059159453</td>\n",
       "      <td>0</td>\n",
       "      <td>8.671646</td>\n",
       "      <td>LINESTRING (127.06623 37.59507, 127.06632 37.5...</td>\n",
       "    </tr>\n",
       "    <tr>\n",
       "      <th>21597</th>\n",
       "      <td>13059159453</td>\n",
       "      <td>13059159452</td>\n",
       "      <td>0</td>\n",
       "      <td>8.671646</td>\n",
       "      <td>LINESTRING (127.06632 37.59504, 127.06623 37.5...</td>\n",
       "    </tr>\n",
       "  </tbody>\n",
       "</table>\n",
       "<p>21598 rows × 5 columns</p>\n",
       "</div>"
      ],
      "text/plain": [
       "                 u            v  key     length  \\\n",
       "0        287288045   1943131901    0  38.805000   \n",
       "1        287288045   1943131877    0  39.840708   \n",
       "2        287288045   3964387739    0  24.542441   \n",
       "3        287710021   7068765358    0   4.968920   \n",
       "4        287710021  10017702402    0  65.032964   \n",
       "...            ...          ...  ...        ...   \n",
       "21593  13059159404   3831105905    0  50.734019   \n",
       "21594  13059159452  13059152169    0  15.224295   \n",
       "21595  13059159452  13059152166    0  11.836931   \n",
       "21596  13059159452  13059159453    0   8.671646   \n",
       "21597  13059159453  13059159452    0   8.671646   \n",
       "\n",
       "                                                geometry  \n",
       "0      LINESTRING (127.02953 37.58266, 127.0292 37.58...  \n",
       "1      LINESTRING (127.02953 37.58266, 127.0296 37.5823)  \n",
       "2      LINESTRING (127.02953 37.58266, 127.0297 37.58...  \n",
       "3      LINESTRING (127.04522 37.57995, 127.0452 37.57...  \n",
       "4      LINESTRING (127.04522 37.57995, 127.04536 37.5...  \n",
       "...                                                  ...  \n",
       "21593  LINESTRING (127.06654 37.59626, 127.06644 37.5...  \n",
       "21594  LINESTRING (127.06623 37.59507, 127.06616 37.5...  \n",
       "21595  LINESTRING (127.06623 37.59507, 127.06629 37.5...  \n",
       "21596  LINESTRING (127.06623 37.59507, 127.06632 37.5...  \n",
       "21597  LINESTRING (127.06632 37.59504, 127.06623 37.5...  \n",
       "\n",
       "[21598 rows x 5 columns]"
      ]
     },
     "execution_count": 17,
     "metadata": {},
     "output_type": "execute_result"
    }
   ],
   "source": [
    "edges_gdf"
   ]
  },
  {
   "cell_type": "code",
   "execution_count": null,
   "id": "4e775bc0-5115-41ad-9df5-5686fc2b259a",
   "metadata": {},
   "outputs": [],
   "source": []
  },
  {
   "cell_type": "code",
   "execution_count": null,
   "id": "eac62cb5-bf56-438e-8ff2-0f8891532dd0",
   "metadata": {},
   "outputs": [],
   "source": []
  },
  {
   "cell_type": "code",
   "execution_count": null,
   "id": "0aa2decc-7dfd-46fa-9152-39d2622a464d",
   "metadata": {},
   "outputs": [],
   "source": []
  }
 ],
 "metadata": {
  "kernelspec": {
   "display_name": "Python 3 (ipykernel)",
   "language": "python",
   "name": "python3"
  },
  "language_info": {
   "codemirror_mode": {
    "name": "ipython",
    "version": 3
   },
   "file_extension": ".py",
   "mimetype": "text/x-python",
   "name": "python",
   "nbconvert_exporter": "python",
   "pygments_lexer": "ipython3",
   "version": "3.13.5"
  }
 },
 "nbformat": 4,
 "nbformat_minor": 5
}
